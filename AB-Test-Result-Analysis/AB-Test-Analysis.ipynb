{
 "cells": [
  {
   "cell_type": "code",
   "execution_count": 13,
   "id": "d38fab4d",
   "metadata": {},
   "outputs": [],
   "source": [
    "import pandas as pd"
   ]
  },
  {
   "cell_type": "code",
   "execution_count": 14,
   "id": "259ffb7e",
   "metadata": {},
   "outputs": [],
   "source": [
    "# Load dataset\n",
    "\n",
    "ab_data = pd.read_csv('./data/ab_data.csv')\n",
    "countries = pd.read_csv('./data/countries.csv')"
   ]
  },
  {
   "cell_type": "code",
   "execution_count": 15,
   "id": "ba257900",
   "metadata": {},
   "outputs": [
    {
     "name": "stdout",
     "output_type": "stream",
     "text": [
      "<class 'pandas.core.frame.DataFrame'>\n",
      "RangeIndex: 294480 entries, 0 to 294479\n",
      "Data columns (total 5 columns):\n",
      " #   Column        Non-Null Count   Dtype \n",
      "---  ------        --------------   ----- \n",
      " 0   user_id       294480 non-null  int64 \n",
      " 1   timestamp     294480 non-null  object\n",
      " 2   group         294480 non-null  object\n",
      " 3   landing_page  294480 non-null  object\n",
      " 4   converted     294480 non-null  int64 \n",
      "dtypes: int64(2), object(3)\n",
      "memory usage: 11.2+ MB\n",
      "<class 'pandas.core.frame.DataFrame'>\n",
      "RangeIndex: 290586 entries, 0 to 290585\n",
      "Data columns (total 2 columns):\n",
      " #   Column   Non-Null Count   Dtype \n",
      "---  ------   --------------   ----- \n",
      " 0   user_id  290586 non-null  int64 \n",
      " 1   country  290586 non-null  object\n",
      "dtypes: int64(1), object(1)\n",
      "memory usage: 4.4+ MB\n"
     ]
    }
   ],
   "source": [
    "# Explore data\n",
    "\n",
    "ab_data.info()\n",
    "countries.info()"
   ]
  },
  {
   "cell_type": "code",
   "execution_count": 16,
   "id": "d68414f8",
   "metadata": {},
   "outputs": [
    {
     "data": {
      "text/html": [
       "<div>\n",
       "<style scoped>\n",
       "    .dataframe tbody tr th:only-of-type {\n",
       "        vertical-align: middle;\n",
       "    }\n",
       "\n",
       "    .dataframe tbody tr th {\n",
       "        vertical-align: top;\n",
       "    }\n",
       "\n",
       "    .dataframe thead th {\n",
       "        text-align: right;\n",
       "    }\n",
       "</style>\n",
       "<table border=\"1\" class=\"dataframe\">\n",
       "  <thead>\n",
       "    <tr style=\"text-align: right;\">\n",
       "      <th></th>\n",
       "      <th>user_id</th>\n",
       "      <th>timestamp</th>\n",
       "      <th>group</th>\n",
       "      <th>landing_page</th>\n",
       "      <th>converted</th>\n",
       "    </tr>\n",
       "  </thead>\n",
       "  <tbody>\n",
       "  </tbody>\n",
       "</table>\n",
       "</div>"
      ],
      "text/plain": [
       "Empty DataFrame\n",
       "Columns: [user_id, timestamp, group, landing_page, converted]\n",
       "Index: []"
      ]
     },
     "execution_count": 16,
     "metadata": {},
     "output_type": "execute_result"
    }
   ],
   "source": [
    "# Check duplications in ab_data\n",
    "ab_duplicates = ab_data[ab_data.duplicated()]\n",
    "ab_duplicates"
   ]
  },
  {
   "cell_type": "code",
   "execution_count": 17,
   "id": "781980cb",
   "metadata": {},
   "outputs": [
    {
     "data": {
      "text/html": [
       "<div>\n",
       "<style scoped>\n",
       "    .dataframe tbody tr th:only-of-type {\n",
       "        vertical-align: middle;\n",
       "    }\n",
       "\n",
       "    .dataframe tbody tr th {\n",
       "        vertical-align: top;\n",
       "    }\n",
       "\n",
       "    .dataframe thead th {\n",
       "        text-align: right;\n",
       "    }\n",
       "</style>\n",
       "<table border=\"1\" class=\"dataframe\">\n",
       "  <thead>\n",
       "    <tr style=\"text-align: right;\">\n",
       "      <th></th>\n",
       "      <th>user_id</th>\n",
       "      <th>country</th>\n",
       "    </tr>\n",
       "  </thead>\n",
       "  <tbody>\n",
       "    <tr>\n",
       "      <th>290584</th>\n",
       "      <td>759899</td>\n",
       "      <td>US</td>\n",
       "    </tr>\n",
       "  </tbody>\n",
       "</table>\n",
       "</div>"
      ],
      "text/plain": [
       "        user_id country\n",
       "290584   759899      US"
      ]
     },
     "execution_count": 17,
     "metadata": {},
     "output_type": "execute_result"
    }
   ],
   "source": [
    "# Check duplications in countires\n",
    "\n",
    "countries_duplicates = countries[countries.duplicated()]\n",
    "countries_duplicates"
   ]
  },
  {
   "cell_type": "code",
   "execution_count": 18,
   "id": "d73a8424",
   "metadata": {},
   "outputs": [
    {
     "data": {
      "text/html": [
       "<div>\n",
       "<style scoped>\n",
       "    .dataframe tbody tr th:only-of-type {\n",
       "        vertical-align: middle;\n",
       "    }\n",
       "\n",
       "    .dataframe tbody tr th {\n",
       "        vertical-align: top;\n",
       "    }\n",
       "\n",
       "    .dataframe thead th {\n",
       "        text-align: right;\n",
       "    }\n",
       "</style>\n",
       "<table border=\"1\" class=\"dataframe\">\n",
       "  <thead>\n",
       "    <tr style=\"text-align: right;\">\n",
       "      <th></th>\n",
       "      <th>user_id</th>\n",
       "      <th>country</th>\n",
       "    </tr>\n",
       "  </thead>\n",
       "  <tbody>\n",
       "  </tbody>\n",
       "</table>\n",
       "</div>"
      ],
      "text/plain": [
       "Empty DataFrame\n",
       "Columns: [user_id, country]\n",
       "Index: []"
      ]
     },
     "execution_count": 18,
     "metadata": {},
     "output_type": "execute_result"
    }
   ],
   "source": [
    "# Remove one of the duplicate rows\n",
    "\n",
    "countries = countries.drop_duplicates(keep='last')\n",
    "countries[countries.duplicated()]"
   ]
  },
  {
   "cell_type": "code",
   "execution_count": null,
   "id": "b878f39e",
   "metadata": {},
   "outputs": [
    {
     "data": {
      "text/plain": [
       "3893"
      ]
     },
     "execution_count": 19,
     "metadata": {},
     "output_type": "execute_result"
    }
   ],
   "source": [
    "# Check mismatches between group and landing page\n",
    "\n",
    "mismatches = ab_data[\n",
    "    ((ab_data['group'] == 'control') & (ab_data['landing_page'] != 'old_page')) |\n",
    "    ((ab_data['group'] == 'treatment') & (ab_data['landing_page'] != 'new_page'))\n",
    "]\n",
    "\n",
    "len(mismatches)"
   ]
  },
  {
   "cell_type": "code",
   "execution_count": 20,
   "id": "8b0933b0",
   "metadata": {},
   "outputs": [],
   "source": [
    "# Remove mismatches\n",
    "ab_cleaned = ab_data.drop(mismatches.index)"
   ]
  },
  {
   "cell_type": "code",
   "execution_count": 21,
   "id": "efea616f",
   "metadata": {},
   "outputs": [
    {
     "data": {
      "text/plain": [
       "(290587, 5)"
      ]
     },
     "execution_count": 21,
     "metadata": {},
     "output_type": "execute_result"
    }
   ],
   "source": [
    "ab_cleaned.shape"
   ]
  },
  {
   "cell_type": "code",
   "execution_count": 22,
   "id": "a6f7c403",
   "metadata": {},
   "outputs": [
    {
     "data": {
      "text/plain": [
       "(290587, 6)"
      ]
     },
     "execution_count": 22,
     "metadata": {},
     "output_type": "execute_result"
    }
   ],
   "source": [
    "# Merge with countires data\n",
    "\n",
    "merged_data = ab_cleaned.merge(countries, on= 'user_id', how='left')\n",
    "merged_data.shape"
   ]
  },
  {
   "cell_type": "code",
   "execution_count": null,
   "id": "5ef30318",
   "metadata": {},
   "outputs": [
    {
     "data": {
      "text/html": [
       "<div>\n",
       "<style scoped>\n",
       "    .dataframe tbody tr th:only-of-type {\n",
       "        vertical-align: middle;\n",
       "    }\n",
       "\n",
       "    .dataframe tbody tr th {\n",
       "        vertical-align: top;\n",
       "    }\n",
       "\n",
       "    .dataframe thead th {\n",
       "        text-align: right;\n",
       "    }\n",
       "</style>\n",
       "<table border=\"1\" class=\"dataframe\">\n",
       "  <thead>\n",
       "    <tr style=\"text-align: right;\">\n",
       "      <th></th>\n",
       "      <th>group</th>\n",
       "      <th>landing_page</th>\n",
       "      <th>mean</th>\n",
       "      <th>count</th>\n",
       "      <th>sum</th>\n",
       "    </tr>\n",
       "  </thead>\n",
       "  <tbody>\n",
       "    <tr>\n",
       "      <th>0</th>\n",
       "      <td>control</td>\n",
       "      <td>old_page</td>\n",
       "      <td>0.120386</td>\n",
       "      <td>145274</td>\n",
       "      <td>17489</td>\n",
       "    </tr>\n",
       "    <tr>\n",
       "      <th>1</th>\n",
       "      <td>treatment</td>\n",
       "      <td>new_page</td>\n",
       "      <td>0.118806</td>\n",
       "      <td>145313</td>\n",
       "      <td>17264</td>\n",
       "    </tr>\n",
       "  </tbody>\n",
       "</table>\n",
       "</div>"
      ],
      "text/plain": [
       "       group landing_page      mean   count    sum\n",
       "0    control     old_page  0.120386  145274  17489\n",
       "1  treatment     new_page  0.118806  145313  17264"
      ]
     },
     "execution_count": 23,
     "metadata": {},
     "output_type": "execute_result"
    }
   ],
   "source": [
    "# Calculate Conversion Rates\n",
    "import matplotlib.pyplot as plt\n",
    "\n",
    "# Calculate conversion rate for each group\n",
    "\n",
    "conversion_rates = merged_data.groupby(['group', 'landing_page'])['converted'].agg(['mean', 'count', 'sum']).reset_index()\n",
    "conversion_rates"
   ]
  },
  {
   "cell_type": "code",
   "execution_count": 24,
   "id": "10399e0f",
   "metadata": {},
   "outputs": [],
   "source": [
    "# Plotting conversion rates\n",
    "control_rate = conversion_rates.loc[conversion_rates['group'] == 'control', 'mean'].values[0]\n",
    "treatment_rate = conversion_rates.loc[conversion_rates['group'] == 'treatment', 'mean'].values[0]"
   ]
  },
  {
   "cell_type": "code",
   "execution_count": 28,
   "id": "54277594",
   "metadata": {},
   "outputs": [
    {
     "data": {
      "image/png": "[encoded data removed]",
      "text/plain": [
       "<Figure size 640x480 with 1 Axes>"
      ]
     },
     "metadata": {},
     "output_type": "display_data"
    },
    {
     "name": "stdout",
     "output_type": "stream",
     "text": [
      "       group landing_page   count    sum      mean\n",
      "0    control     old_page  145274  17489  0.120386\n",
      "1  treatment     new_page  145313  17264  0.118806\n"
     ]
    }
   ],
   "source": [
    "plt.bar(['Control (Old Page)', 'Treatment (New Page)'], [control_rate, treatment_rate])\n",
    "plt.title('Conversion Rate by Group')\n",
    "plt.ylabel('Conversion Rate')\n",
    "plt.ylim(0, max(control_rate, treatment_rate) + 0.01)\n",
    "plt.grid(axis='y')\n",
    "plt.show()\n",
    "\n",
    "print(conversion_rates[['group', 'landing_page', 'count', 'sum', 'mean']])"
   ]
  },
  {
   "cell_type": "code",
   "execution_count": 31,
   "id": "c34bfcc8",
   "metadata": {},
   "outputs": [
    {
     "name": "stdout",
     "output_type": "stream",
     "text": [
      "Z-statistics: 1.31297418987394\n",
      "P-value: 0.18919164543294498\n"
     ]
    }
   ],
   "source": [
    "# Two-Proportion Z-Test\n",
    "\n",
    "from statsmodels.stats.proportion import proportions_ztest\n",
    "\n",
    "# Define Conversion and Sample size\n",
    "successes = [17489, 17264] # control, treatment\n",
    "nobs = [145274, 145313]     # total users in each group\n",
    "\n",
    "# Two-proportion z-test\n",
    "z_stats, p_value = proportions_ztest(successes, nobs)\n",
    "\n",
    "print(f\"Z-statistics: {z_stats}\")\n",
    "print(f\"P-value: {p_value}\")"
   ]
  },
  {
   "cell_type": "code",
   "execution_count": 32,
   "id": "150939bb",
   "metadata": {},
   "outputs": [
    {
     "name": "stdout",
     "output_type": "stream",
     "text": [
      "Fail to reject the null hypothwsis: No significant difference between groups\n"
     ]
    }
   ],
   "source": [
    "# Interpretation\n",
    "\n",
    "alpha = 0.05\n",
    "if p_value < alpha:\n",
    "    print(\"Reject the null hypothesis: The difference is statistically significant.\")\n",
    "else:\n",
    "    print(\"Fail to reject the null hypothwsis: No significant difference between groups\")"
   ]
  },
  {
   "cell_type": "code",
   "execution_count": null,
   "id": "807bd686",
   "metadata": {},
   "outputs": [],
   "source": []
  }
 ],
 "metadata": {
  "kernelspec": {
   "display_name": "py11",
   "language": "python",
   "name": "python3"
  },
  "language_info": {
   "codemirror_mode": {
    "name": "ipython",
    "version": 3
   },
   "file_extension": ".py",
   "mimetype": "text/x-python",
   "name": "python",
   "nbconvert_exporter": "python",
   "pygments_lexer": "ipython3",
   "version": "3.11.10"
  }
 },
 "nbformat": 4,
 "nbformat_minor": 5
}
